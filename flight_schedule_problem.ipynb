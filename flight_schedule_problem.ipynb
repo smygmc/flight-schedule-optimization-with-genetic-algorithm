{
  "nbformat": 4,
  "nbformat_minor": 0,
  "metadata": {
    "colab": {
      "provenance": [],
      "authorship_tag": "ABX9TyNMSC4RrchICbgsUGO3k7n9",
      "include_colab_link": true
    },
    "kernelspec": {
      "name": "python3",
      "display_name": "Python 3"
    },
    "language_info": {
      "name": "python"
    }
  },
  "cells": [
    {
      "cell_type": "markdown",
      "metadata": {
        "id": "view-in-github",
        "colab_type": "text"
      },
      "source": [
        "<a href=\"https://colab.research.google.com/github/smygmc/flight-schedule-optimization-with-genetic-algorithm/blob/main/flight_schedule_problem.ipynb\" target=\"_parent\"><img src=\"https://colab.research.google.com/assets/colab-badge.svg\" alt=\"Open In Colab\"/></a>"
      ]
    },
    {
      "cell_type": "code",
      "execution_count": 1,
      "metadata": {
        "id": "dCUDv9lh5hQc"
      },
      "outputs": [],
      "source": [
        "import time\n",
        "import random\n",
        "import math\n",
        "import sys"
      ]
    },
    {
      "cell_type": "code",
      "source": [
        "people=[('Lisbon', 'LIS'),\n",
        "          ('Madrid', 'MAD'),\n",
        "          ('Paris', 'CDG'),\n",
        "          ('Dublin', 'DUB'),\n",
        "          ('Brussels', 'BRU'),\n",
        "          ('London', 'LHR')] # cities and abbreviations\n",
        "\n"
      ],
      "metadata": {
        "id": "HcdTSLvVlJ85"
      },
      "execution_count": 2,
      "outputs": []
    },
    {
      "cell_type": "code",
      "source": [
        "destination='FCO' # roma airport"
      ],
      "metadata": {
        "id": "_fZNTPbjmdcY"
      },
      "execution_count": 3,
      "outputs": []
    },
    {
      "cell_type": "code",
      "source": [
        "flights={}\n",
        "for row in open(\"/content/flights.txt\"):\n",
        "  origin,destination,departure_time,arrival_time,cost=row.split(\",\")\n",
        "  flights.setdefault((origin,destination),[]) # add key with setdefault so it wont throw an error in first time\n",
        "  '''\n",
        "  The setdefault() method returns the value of the item with the specified key. \n",
        "  If the key does not exist, insert the key, with the specified value, see example below\n",
        "  If the key exist, this parameter has no effect.\n",
        "  If the key does not exist, this value becomes the key's value\n",
        "  Default value None\n",
        "\n",
        "  '''\n",
        "  flights[(origin,destination)].append((departure_time,arrival_time,int(cost)))\n"
      ],
      "metadata": {
        "id": "-X0oVoCDpmUK"
      },
      "execution_count": 4,
      "outputs": []
    },
    {
      "cell_type": "code",
      "source": [
        "print(flights)"
      ],
      "metadata": {
        "colab": {
          "base_uri": "https://localhost:8080/"
        },
        "id": "PZFqTU-gqPIX",
        "outputId": "73348799-abcd-4c17-b4a2-3a4d86a918d0"
      },
      "execution_count": 5,
      "outputs": [
        {
          "output_type": "stream",
          "name": "stdout",
          "text": [
            "{('FCO', 'LIS'): [('6:19', '8:13', 239), ('8:04', '10:59', 136), ('9:31', '11:43', 210), ('11:07', '13:24', 171), ('12:31', '14:02', 234), ('14:05', '15:47', 226), ('15:07', '17:21', 129), ('16:35', '18:56', 144), ('18:25', '20:34', 205), ('20:05', '21:44', 172)], ('LIS', 'FCO'): [('6:11', '8:31', 249), ('7:39', '10:24', 219), ('9:15', '12:03', 99), ('11:08', '13:07', 175), ('12:18', '14:56', 172), ('13:37', '15:08', 250), ('15:03', '16:42', 135), ('16:51', '19:09', 147), ('18:12', '20:17', 242), ('20:05', '22:06', 261)], ('FCO', 'MAD'): [('6:03', '8:43', 219), ('7:50', '10:08', 164), ('9:11', '10:42', 172), ('10:33', '13:11', 132), ('12:08', '14:47', 231), ('14:19', '17:09', 190), ('15:04', '17:23', 189), ('17:06', '20:00', 95), ('18:33', '20:22', 143), ('19:32', '21:25', 160)], ('MAD', 'FCO'): [('6:05', '8:32', 174), ('8:25', '10:34', 157), ('9:42', '11:32', 169), ('11:01', '12:39', 260), ('12:44', '14:17', 134), ('14:22', '16:32', 126), ('15:58', '18:40', 173), ('16:43', '19:00', 246), ('18:48', '21:45', 246), ('19:50', '22:24', 269)], ('FCO', 'CDG'): [('6:33', '9:14', 172), ('8:23', '11:07', 143), ('9:25', '12:46', 295), ('11:08', '14:38', 262), ('12:37', '15:05', 170), ('14:08', '16:09', 232), ('15:23', '18:49', 150), ('16:50', '19:26', 304), ('18:07', '21:30', 355), ('20:27', '23:42', 169)], ('CDG', 'FCO'): [('6:25', '9:30', 335), ('7:34', '9:40', 324), ('9:15', '12:29', 225), ('11:28', '14:40', 248), ('12:05', '15:30', 330), ('14:01', '17:24', 338), ('15:34', '18:11', 326), ('17:07', '20:04', 291), ('18:23', '21:35', 134), ('19:53', '22:21', 173)], ('FCO', 'DUB'): [('6:39', '8:09', 86), ('8:23', '10:28', 149), ('9:58', '11:18', 130), ('10:33', '12:03', 74), ('12:08', '14:05', 142), ('13:39', '15:30', 74), ('15:25', '16:58', 62), ('17:03', '18:03', 103), ('18:24', '20:49', 124), ('19:58', '21:23', 142)], ('DUB', 'FCO'): [('6:17', '8:26', 89), ('8:04', '10:11', 95), ('9:45', '11:50', 172), ('11:16', '13:29', 83), ('12:34', '15:02', 109), ('13:40', '15:37', 138), ('15:27', '17:18', 151), ('17:11', '18:30', 108), ('18:34', '19:36', 136), ('20:17', '22:22', 102)], ('FCO', 'BRU'): [('6:09', '9:49', 414), ('7:57', '11:15', 347), ('9:49', '13:51', 229), ('10:51', '14:16', 256), ('12:20', '16:34', 500), ('14:20', '17:32', 332), ('15:49', '20:10', 497), ('17:14', '20:59', 277), ('18:44', '22:42', 351), ('19:57', '23:15', 512)], ('BRU', 'FCO'): [('6:12', '10:22', 230), ('7:53', '11:37', 433), ('9:08', '12:12', 364), ('10:30', '14:57', 290), ('12:19', '15:25', 342), ('13:54', '18:02', 294), ('15:44', '18:55', 382), ('16:52', '20:48', 448), ('18:26', '21:29', 464), ('20:07', '23:27', 473)], ('FCO', 'LHR'): [('6:58', '9:01', 238), ('8:19', '11:16', 122), ('9:58', '12:56', 249), ('10:32', '13:16', 139), ('12:01', '13:41', 267), ('13:37', '15:33', 142), ('15:50', '18:45', 243), ('16:33', '18:15', 253), ('18:17', '21:04', 259), ('19:46', '21:45', 214)], ('LHR', 'FCO'): [('6:08', '8:06', 224), ('8:27', '10:45', 139), ('9:15', '12:14', 247), ('10:53', '13:36', 189), ('12:08', '14:59', 149), ('13:40', '15:38', 137), ('15:23', '17:25', 232), ('17:08', '19:08', 262), ('18:35', '20:28', 204), ('20:30', '23:11', 114)]}\n"
          ]
        }
      ]
    },
    {
      "cell_type": "code",
      "source": [
        "def print_schedule(schedule):\n",
        "  flight_id = -1\n",
        "  total_price = 0\n",
        "  for i in range(len(schedule) // 2):#divide by 2 because schedule list's length is (number of people*2) for arriving and departure \n",
        "    name = people[i][0]\n",
        "    origin = people[i][1]\n",
        "    flight_id += 1\n",
        "    to_rome = flights[(origin, destination)][schedule[flight_id]]\n",
        "    total_price += to_rome[2]\n",
        "    flight_id += 1\n",
        "    from_rome = flights[(destination, origin)][schedule[flight_id]]\n",
        "    total_price += from_rome[2]\n",
        "    print(f'{name}, {origin}, {to_rome[0]}, {to_rome[1]}, {to_rome[2]},{from_rome[0]}, {from_rome[1]}, {from_rome[2]}')\n",
        "  print('Total price: ', total_price)\n"
      ],
      "metadata": {
        "id": "-2nb4iNnwiGY"
      },
      "execution_count": 6,
      "outputs": []
    },
    {
      "cell_type": "code",
      "source": [
        "print_schedule([7,3, 3,2, 7,3, 6,3, 2,4, 5,9])"
      ],
      "metadata": {
        "colab": {
          "base_uri": "https://localhost:8080/"
        },
        "id": "QFQIlzON6IXf",
        "outputId": "2f03baff-37d1-4d78-a221-4822fe8dce4e"
      },
      "execution_count": 7,
      "outputs": [
        {
          "output_type": "stream",
          "name": "stdout",
          "text": [
            "Lisbon, LIS, 16:51, 19:09, 147,11:07, 13:24, 171\n",
            "Madrid, MAD, 11:01, 12:39, 260,9:11, 10:42, 172\n",
            "Paris, CDG, 17:07, 20:04, 291,11:08, 14:38, 262\n",
            "Dublin, DUB, 15:27, 17:18, 151,10:33, 12:03, 74\n",
            "Brussels, BRU, 9:08, 12:12, 364,12:20, 16:34, 500\n",
            "London, LHR, 13:40, 15:38, 137,19:46, 21:45, 214\n",
            "Total price:  2743\n"
          ]
        }
      ]
    },
    {
      "cell_type": "code",
      "source": [
        "def get_minutes(hour):\n",
        "  t = time.strptime(hour, '%H:%M')\n",
        "  minutes = t[3] * 60 + t[4]\n",
        "  return minutes"
      ],
      "metadata": {
        "id": "6CthbQk2XeeG"
      },
      "execution_count": 8,
      "outputs": []
    },
    {
      "cell_type": "code",
      "source": [
        "get_minutes(\"3:00\")"
      ],
      "metadata": {
        "colab": {
          "base_uri": "https://localhost:8080/"
        },
        "id": "u_85XjwqXhOO",
        "outputId": "a8ba9fb1-c506-446d-ee21-3d01145bcc76"
      },
      "execution_count": 9,
      "outputs": [
        {
          "output_type": "execute_result",
          "data": {
            "text/plain": [
              "180"
            ]
          },
          "metadata": {},
          "execution_count": 9
        }
      ]
    },
    {
      "cell_type": "code",
      "source": [
        "def fitness_function(schedule):\n",
        "  total_price = 0\n",
        "  last_arrival_to_rome = 0 #dk cinsinden en fazla (bekleme süresi en az =0)\n",
        "  first_departure_from_rome = 1439 # dk cinsinden en az (bekleme süresi en az =0)(24  saat sınırları içereisinde bu zaman aralığı 00:00-23:59)\n",
        "\n",
        "  flight_id = -1\n",
        "  for i in range(len(schedule) // 2):\n",
        "    origin = people[i][1]\n",
        "    flight_id += 1\n",
        "    to_rome = flights[(origin, destination)][schedule[flight_id]]\n",
        "    flight_id += 1\n",
        "    from_rome = flights[(destination, origin)][schedule[flight_id]]\n",
        "\n",
        "    total_price += to_rome[2]\n",
        "    total_price += from_rome[2]\n",
        "\n",
        "    if last_arrival_to_rome < get_minutes(to_rome[1]):#şu anki last arrival dk sından daha fazla olan bir değer se last arrival odur\n",
        "      last_arrival_to_rome = get_minutes(to_rome[1])\n",
        "    if first_departure_from_rome > get_minutes(from_rome[0]):#şuanki first departure dk sından daha az bir değerse first departure odur\n",
        "      first_departure_from_rome = get_minutes(from_rome[0])\n",
        "\n",
        "\n",
        "  total_wait = 0\n",
        "  flight_id = -1\n",
        "  for i in range(len(schedule) // 2):\n",
        "    origin = people[i][1]\n",
        "    flight_id += 1\n",
        "    to_rome = flights[(origin, destination)][schedule[flight_id]]\n",
        "    flight_id += 1\n",
        "    from_rome = flights[(destination, origin)][schedule[flight_id]]\n",
        "\n",
        "    total_wait += last_arrival_to_rome - get_minutes(to_rome[1])\n",
        "    total_wait += get_minutes(from_rome[0]) - first_departure_from_rome\n",
        "  return total_wait + total_price"
      ],
      "metadata": {
        "id": "gHT4EsQrQSOz"
      },
      "execution_count": 26,
      "outputs": []
    },
    {
      "cell_type": "code",
      "source": [
        "domain=[(0, 9)] * (len(people) * 2)\n",
        "domain"
      ],
      "metadata": {
        "colab": {
          "base_uri": "https://localhost:8080/"
        },
        "id": "lY8cq73DW3hz",
        "outputId": "a57052a5-4024-4cab-bf7c-5275c0a4786f"
      },
      "execution_count": 11,
      "outputs": [
        {
          "output_type": "execute_result",
          "data": {
            "text/plain": [
              "[(0, 9),\n",
              " (0, 9),\n",
              " (0, 9),\n",
              " (0, 9),\n",
              " (0, 9),\n",
              " (0, 9),\n",
              " (0, 9),\n",
              " (0, 9),\n",
              " (0, 9),\n",
              " (0, 9),\n",
              " (0, 9),\n",
              " (0, 9)]"
            ]
          },
          "metadata": {},
          "execution_count": 11
        }
      ]
    },
    {
      "cell_type": "code",
      "source": [
        "def mutation(domain, schedule, probability):# mutasyon olsun mu olmasın mı belirleyen olasılık değeri\n",
        "  gene = random.randint(0, len(domain) - 1)# both limit values are included hangi genin mutasyona uğrayacağını belirliyoruz\n",
        "  mutant = schedule # schedule ı bu listeye atıyoruz (pass by assignment)\n",
        "  if random.random() < probability: # 0.02, 0.05 \n",
        "    mutant[gene]=random.randint(domain[gene][0],domain[gene][1])\n",
        "    '''if schedule[gene] != domain[gene][0]:# 0 a eşitse zaten 1 eksiltemessin\n",
        "      mutant = schedule[0:gene] + [schedule[gene] - 1] + schedule[gene + 1:] #[0:n] n dahil değil\n",
        "    else:\n",
        "      #if schedule[gene] != domain[gene][1]:#9 a eşitse 1 arttıramassın\n",
        "        mutant = schedule[0:gene] + [schedule[gene] + 1] + schedule[gene + 1:]\n",
        "        '''\n",
        "     \n",
        "  return mutant"
      ],
      "metadata": {
        "id": "Sr1QheCVW-DT"
      },
      "execution_count": 12,
      "outputs": []
    },
    {
      "cell_type": "code",
      "source": [
        "def crossover(domain, individual1, individual2):\n",
        "  gene = random.randint(1, len(domain) - 2)\n",
        "  return individual1[0:gene] + individual2[gene:]"
      ],
      "metadata": {
        "id": "XcEHX3MAboEc"
      },
      "execution_count": 13,
      "outputs": []
    },
    {
      "cell_type": "code",
      "source": [
        "def genetic_algorithm(domain, fitness_function, population_size = 100, elitism = 0.2,\n",
        "                      number_of_generations = 200, mutation_probability = 0.05):\n",
        "  population = []\n",
        "  for i in range(population_size):\n",
        "    individual = [random.randint(domain[i][0], domain[i][1]) for i in range(len(domain))]#individual dediği bir tane schedule listesi\n",
        "    population.append(individual)\n",
        "  number_elitism = int(elitism * population_size)\n",
        "  for i in range(number_of_generations):\n",
        "    costs = [(fitness_function(individual), individual) for individual in population]#popülasyondaki her birey(her bir schedule listesi) için fitness değeri ve kendisini tutan bir tuple listesi\n",
        "    costs.sort()#küçükten büyüğe sıralıyor\n",
        "    ordered_individuals = [individual for (cost, individual) in costs]#coststan sadece individualları al\n",
        "    population = ordered_individuals[0:number_elitism]#0 dan number_elitism e kadar yani en iyi yüzdelik dilime kadar olan kısmı al\n",
        "    while len(population) < population_size:#tekrar population size kadar doldurucak listeyi nir nesil geçmiş olucak\n",
        "      i1 = random.randint(0, number_elitism)\n",
        "      i2 = random.randint(0, number_elitism)\n",
        "      new_individual = crossover(domain, ordered_individuals[i1], ordered_individuals[i2])\n",
        "      new_individual_mutation = mutation(domain, new_individual, mutation_probability)\n",
        "      population.append(new_individual_mutation)\n",
        "  \n",
        "\n",
        "  return costs[0][1]\n",
        "     "
      ],
      "metadata": {
        "id": "1eU10bNQgfa1"
      },
      "execution_count": 14,
      "outputs": []
    },
    {
      "cell_type": "code",
      "source": [
        "x=genetic_algorithm(domain,fitness_function)\n"
      ],
      "metadata": {
        "id": "gRNak4cUho2s"
      },
      "execution_count": 32,
      "outputs": []
    },
    {
      "cell_type": "code",
      "source": [
        "fitness_function(x)"
      ],
      "metadata": {
        "colab": {
          "base_uri": "https://localhost:8080/"
        },
        "id": "YJYVQSm1kmBU",
        "outputId": "89475bb3-d0c6-42a4-bf35-4e5d14dd4715"
      },
      "execution_count": 33,
      "outputs": [
        {
          "output_type": "execute_result",
          "data": {
            "text/plain": [
              "2806"
            ]
          },
          "metadata": {},
          "execution_count": 33
        }
      ]
    },
    {
      "cell_type": "code",
      "source": [
        "print_schedule(x)"
      ],
      "metadata": {
        "colab": {
          "base_uri": "https://localhost:8080/"
        },
        "id": "klyOWrpWlErc",
        "outputId": "144fe673-1561-4203-f9e8-1441c122bc44"
      },
      "execution_count": 23,
      "outputs": [
        {
          "output_type": "stream",
          "name": "stdout",
          "text": [
            "Lisbon, LIS, 20:05, 22:06, 261,11:07, 13:24, 171\n",
            "Madrid, MAD, 19:50, 22:24, 269,18:33, 20:22, 143\n",
            "Paris, CDG, 19:53, 22:21, 173,12:37, 15:05, 170\n",
            "Dublin, DUB, 13:40, 15:37, 138,10:33, 12:03, 74\n",
            "Brussels, BRU, 6:12, 10:22, 230,10:51, 14:16, 256\n",
            "London, LHR, 18:35, 20:28, 204,10:32, 13:16, 139\n",
            "Total price:  2228\n"
          ]
        }
      ]
    }
  ]
}